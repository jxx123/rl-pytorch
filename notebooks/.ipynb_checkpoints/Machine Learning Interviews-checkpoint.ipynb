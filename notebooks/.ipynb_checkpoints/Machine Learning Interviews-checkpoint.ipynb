{
 "cells": [
  {
   "cell_type": "markdown",
   "id": "b8eacefd-e61d-412a-9785-462ac1cf0b75",
   "metadata": {},
   "source": [
    "# Decision Transformer"
   ]
  },
  {
   "cell_type": "code",
   "execution_count": 27,
   "id": "f43ca4ad-3d2f-44c9-965b-01fc4bbb0db3",
   "metadata": {},
   "outputs": [],
   "source": [
    "import torch\n",
    "import torch.nn as nn\n",
    "from torch.nn import functional as F"
   ]
  },
  {
   "cell_type": "code",
   "execution_count": 78,
   "id": "3588fa0a-7f14-4841-b80d-cfec7b5f763e",
   "metadata": {},
   "outputs": [],
   "source": [
    "class CausalSelfAttention(nn.Module):\n",
    "    def __init__(self, embed_dim, n_head, max_seq_len, dropout=0.1):\n",
    "        super().__init__()\n",
    "        self.q_linear = nn.Linear(embed_dim, embed_dim)\n",
    "        self.k_linear = nn.Linear(embed_dim, embed_dim)\n",
    "        self.v_linear = nn.Linear(embed_dim, embed_dim)\n",
    "        self.attn_drop = nn.Dropout(dropout)\n",
    "        self.out_linear = nn.Linear(embed_dim, embed_dim)\n",
    "        self.out_drop = nn.Dropout(dropout)\n",
    "        self.n_head = n_head\n",
    "        self.max_seq_len = max_seq_len\n",
    "        self.register_buffer('mask', torch.tril(torch.ones(max_seq_len, max_seq_len)))\n",
    "\n",
    "    def forward(self, x):\n",
    "        B, T, E = x.shape\n",
    "        assert T <= self.max_seq_len, f\"The sequence length cannot be larger than {self.max_seq_len}\"\n",
    "        H = self.n_head\n",
    "        \n",
    "        q = self.q_linear(x)\n",
    "        k = self.k_linear(x)\n",
    "        v = self.v_linear(x)\n",
    "\n",
    "        D = E // H\n",
    "        q = q.view(B, T, H, D).transpose(1, 2)  # B, H, T, D\n",
    "        k = k.view(B, T, H, D).transpose(1, 2)  # B, H, T, D\n",
    "        v = v.view(B, T, H, D).transpose(1, 2)  # B, H, T, D\n",
    "\n",
    "        attn = q @ k.transpose(-1, -2) / D ** 0.5\n",
    "        attn = attn.masked_fill(self.mask[:T, :T] == 0, -float('inf'))  # B, H, T, T\n",
    "        attn = F.softmax(attn, dim=-1)\n",
    "        y = self.attn_drop(attn) @ v  # B, H, T, D\n",
    "\n",
    "        y = y.transpose(1, 2).contiguous().view(B, T, E)\n",
    "        y = self.out_drop(self.out_linear(y))\n",
    "        return y"
   ]
  },
  {
   "cell_type": "code",
   "execution_count": 86,
   "id": "a8d2d330-c69e-4db7-92b1-797abd2f5569",
   "metadata": {},
   "outputs": [],
   "source": [
    "class MLP(nn.Module):\n",
    "    def __init__(self, embed_size, dropout=0.1):\n",
    "        super().__init__()\n",
    "        self.linear1 = nn.Linear(embed_size, 4 * embed_size)\n",
    "        self.gelu = nn.GELU()\n",
    "        self.linear2 = nn.Linear(4 * embed_size, embed_size)\n",
    "        self.drop = nn.Dropout(dropout)\n",
    "\n",
    "    def forward(self, x):\n",
    "        y = self.linear1(x)\n",
    "        y = self.gelu(y)\n",
    "        y = self.linear2(y)\n",
    "        y = self.drop(y)\n",
    "        return y"
   ]
  },
  {
   "cell_type": "code",
   "execution_count": 89,
   "id": "fc173b8a-599d-4c55-9712-5e8185c6c627",
   "metadata": {},
   "outputs": [],
   "source": [
    "class Block(nn.Module):\n",
    "    def __init__(self, embed_size, n_head, max_seq_len, dropout=0.1):\n",
    "        super().__init__()\n",
    "        self.ln1 = nn.LayerNorm(embed_size)\n",
    "        self.att_block = CausalSelfAttention(embed_size, n_head, max_seq_len, dropout=dropout)\n",
    "        self.ln2 = nn.LayerNorm(embed_size)\n",
    "        self.mlp = MLP(embed_size, dropout=dropout)\n",
    "\n",
    "    def forward(self, x):\n",
    "        x = self.ln1(x)\n",
    "        x = x + self.att_block(x)\n",
    "        x = self.ln2(x)\n",
    "        x = x + self.mlp(x)\n",
    "        return x"
   ]
  },
  {
   "cell_type": "code",
   "execution_count": 248,
   "id": "3b47ee02-28eb-4e07-8dcf-c30932279b2e",
   "metadata": {},
   "outputs": [],
   "source": [
    "class DecisionTransformer(nn.Module):\n",
    "    def __init__(self, obs_dim, act_dim, embed_size, n_head, n_blocks, max_seq_len, max_timesteps=4096, dropout=0.1):\n",
    "        super().__init__()\n",
    "        self.embed_size = embed_size\n",
    "        self.obs_embedding = nn.Linear(obs_dim, embed_size)\n",
    "        self.act_embedding = nn.Linear(act_dim, embed_size)\n",
    "        self.rtg_embedding = nn.Linear(1, embed_size)\n",
    "        self.time_embedding = nn.Embedding(max_timesteps, embed_size)\n",
    "        block_size = 3 * max_seq_len\n",
    "        blocks = [CausalSelfAttention(embed_size, n_head, block_size, dropout=dropout) for _ in range(n_blocks)]\n",
    "        self.transformer = nn.Sequential(*blocks)\n",
    "        self.act_head = nn.Sequential(nn.Linear(embed_size, act_dim), nn.Tanh())\n",
    "        self.obs_head = nn.Sequential(nn.Linear(embed_size, obs_dim), nn.Tanh())\n",
    "        self.rtg_head = nn.Linear(embed_size, 1)\n",
    "\n",
    "    def forward(self, t, obs, act, rtg):\n",
    "        \"\"\"\n",
    "        Args:\n",
    "          t   - B, T\n",
    "          obs - B, T, obs_dim\n",
    "          act - B, T, act_dim\n",
    "          rtg - B, T, 1\n",
    "        \"\"\"\n",
    "        B, T = t.shape\n",
    "        time_embed = self.time_embedding(t)   # B, T, d\n",
    "        obs_embed = self.obs_embedding(obs) + time_embed  # B, T, d\n",
    "        act_embed = self.act_embedding(act) + time_embed  # B, T, d\n",
    "        rtg_embed = self.rtg_embedding(rtg) + time_embed  # B, T, d\n",
    "\n",
    "        # convert the sequence into r0, s0, a0, r1, s1, a1, ...\n",
    "        seq_embed = torch.stack((rtg_embed, obs_embed, act_embed), dim=2).view(B, 3 * T, -1)  # B, 3xT, d\n",
    "\n",
    "        # NOTE: transformer blocks implement pre layer norm, hence no need to do layer norm again here.\n",
    "        \n",
    "        # h[:, 0, t, :] are embeddings based on r0, s0, a0, ..., rt\n",
    "        # h[:, 1, t, :] are embeddings based on r0, s0, a0, ..., rt, st\n",
    "        # h[:, 2, t, :] are embeddings based on r0, s0, 10, ..., rt, st, at\n",
    "        h = self.transformer(seq_embed).view(B, T, 3, -1).transpose(1, 2) # B, 3, T, d\n",
    "\n",
    "        # predict action from state\n",
    "        pred_act = self.act_head(h[:, 1])\n",
    "\n",
    "        # predict state and return are based on action\n",
    "        pred_return = self.rtg_head(h[:, 2])\n",
    "        pred_obs = self.obs_head(h[:, 2])\n",
    "        return pred_act, pred_obs, pred_return"
   ]
  },
  {
   "cell_type": "code",
   "execution_count": 244,
   "id": "e1bf6d85-c0f9-4d0a-a965-8728718eba24",
   "metadata": {},
   "outputs": [],
   "source": [
    "obs_dim = 3\n",
    "act_dim = 2\n",
    "embed_size = 32\n",
    "n_head = 4\n",
    "n_blocks = 1\n",
    "max_seq_len = 10\n",
    "\n",
    "dt = DecisionTransformer(obs_dim, act_dim, embed_size, n_head, n_blocks, max_seq_len)"
   ]
  },
  {
   "cell_type": "code",
   "execution_count": 245,
   "id": "0651525c-82f0-4f36-bf85-7dc8a66131ab",
   "metadata": {},
   "outputs": [],
   "source": [
    "T = 10\n",
    "B = 5\n",
    "t = torch.arange(T).repeat(B, 1)\n",
    "obs = torch.randn(B, T, obs_dim)\n",
    "act = torch.randn(B, T, act_dim)\n",
    "rtg = torch.randn(B, T, 1)"
   ]
  },
  {
   "cell_type": "code",
   "execution_count": 246,
   "id": "c2bff8c6-cd1d-4bda-a3fc-17d83b3845d2",
   "metadata": {},
   "outputs": [
    {
     "data": {
      "text/plain": [
       "torch.Size([5, 10])"
      ]
     },
     "execution_count": 246,
     "metadata": {},
     "output_type": "execute_result"
    }
   ],
   "source": [
    "t.shape"
   ]
  },
  {
   "cell_type": "code",
   "execution_count": 247,
   "id": "93d66d87-152f-42aa-8b67-a88b7dd4cf56",
   "metadata": {},
   "outputs": [
    {
     "name": "stdout",
     "output_type": "stream",
     "text": [
      "torch.Size([5, 10, 32])\n",
      "torch.Size([5, 30, 32])\n",
      "torch.Size([5, 30, 32])\n"
     ]
    }
   ],
   "source": [
    "pred_act, pred_obs, pred_rtg = dt(t, obs, act, rtg)"
   ]
  },
  {
   "cell_type": "code",
   "execution_count": 218,
   "id": "cb22d62a-a2c5-4a16-bfc3-13ec7456c31d",
   "metadata": {},
   "outputs": [
    {
     "data": {
      "text/plain": [
       "torch.Size([5, 10, 2])"
      ]
     },
     "execution_count": 218,
     "metadata": {},
     "output_type": "execute_result"
    }
   ],
   "source": [
    "pred_act.shape"
   ]
  },
  {
   "cell_type": "markdown",
   "id": "47ac0869-713d-4ea8-8245-ebf7e56adc72",
   "metadata": {},
   "source": [
    "# Conv3D"
   ]
  },
  {
   "cell_type": "code",
   "execution_count": 288,
   "id": "6afeaf0b-bb52-4e39-9832-ac1a4e9a86c3",
   "metadata": {},
   "outputs": [],
   "source": [
    "x = np.arange(9).reshape(3, 3)"
   ]
  },
  {
   "cell_type": "code",
   "execution_count": 290,
   "id": "afde4f6a-5ed7-414f-88e3-e25baec44834",
   "metadata": {},
   "outputs": [
    {
     "data": {
      "text/plain": [
       "array([[0, 1, 2],\n",
       "       [3, 4, 5],\n",
       "       [6, 7, 8]])"
      ]
     },
     "execution_count": 290,
     "metadata": {},
     "output_type": "execute_result"
    }
   ],
   "source": [
    "x"
   ]
  },
  {
   "cell_type": "code",
   "execution_count": 289,
   "id": "284c2910-a2da-4e79-a505-9a08d0244d72",
   "metadata": {},
   "outputs": [
    {
     "data": {
      "text/plain": [
       "array([[0, 2],\n",
       "       [6, 8]])"
      ]
     },
     "execution_count": 289,
     "metadata": {},
     "output_type": "execute_result"
    }
   ],
   "source": [
    "x[::2, ::2]"
   ]
  },
  {
   "cell_type": "code",
   "execution_count": 296,
   "id": "de78e385-8a60-46c1-a20c-276822dedfce",
   "metadata": {},
   "outputs": [],
   "source": [
    "def conv3d(x, kernel, padding=0, stride=1, dilation=1):\n",
    "    B, C, H, W = x.shape\n",
    "    k1, k2, k3 = kernel.shape\n",
    "\n",
    "    if dilation > 1:\n",
    "        dilated_kernel = np.zeros(((k1 - 1) * dilation + 1, (k2 - 1) * dilation + 1, (k3 - 1) * dilation + 1))\n",
    "        dilated_kernel[::dilation, ::dilation, ::dilation] = kernel\n",
    "        kernel = dilated_kernel\n",
    "        k1, k2, k3 = kernel.shape\n",
    "\n",
    "    x = np.pad(x, [(0, 0), (padding, padding), (padding, padding), (padding, padding)])\n",
    "    Cout = (C + 2 * padding - k1) // stride + 1\n",
    "    Hout = (H + 2 * padding - k2) // stride + 1\n",
    "    Wout = (W + 2 * padding - k3) // stride + 1\n",
    "    out = np.zeros((B, Cout, Hout, Wout))\n",
    "    for b in range(B):\n",
    "        for i in range(Cout):\n",
    "            for j in range(Hout):\n",
    "                for k in range(Wout):\n",
    "                    out[b, i, j, k] = np.sum(x[b, i : i + k1, j : j + k2, k : k + k3] * kernel)\n",
    "    return out"
   ]
  },
  {
   "cell_type": "code",
   "execution_count": 297,
   "id": "b6b950b1-7377-44ac-be11-f25d9be13e3d",
   "metadata": {},
   "outputs": [],
   "source": [
    "x = np.random.randn(5, 3, 10, 10)\n",
    "kernel = np.random.randn(2, 3, 3)"
   ]
  },
  {
   "cell_type": "code",
   "execution_count": 298,
   "id": "7c67fa5b-09e9-4e8e-9034-986c44c57d7a",
   "metadata": {},
   "outputs": [],
   "source": [
    "y = conv3d(x, kernel)"
   ]
  },
  {
   "cell_type": "code",
   "execution_count": 300,
   "id": "54b53ed5-c28e-4e5f-8908-2131d4a24e9b",
   "metadata": {},
   "outputs": [
    {
     "data": {
      "text/plain": [
       "(5, 2, 8, 8)"
      ]
     },
     "execution_count": 300,
     "metadata": {},
     "output_type": "execute_result"
    }
   ],
   "source": [
    "y.shape"
   ]
  },
  {
   "cell_type": "markdown",
   "id": "1678ca13-aced-47e8-bbf2-b18e0f5ca2e7",
   "metadata": {},
   "source": [
    "# Linear Regression"
   ]
  },
  {
   "cell_type": "code",
   "execution_count": 301,
   "id": "da43e2f3-8bf6-4559-9211-f412995d25d2",
   "metadata": {},
   "outputs": [],
   "source": [
    "import numpy as np"
   ]
  },
  {
   "cell_type": "code",
   "execution_count": 368,
   "id": "999b7e48-f595-461d-b519-c7a69c7b50d8",
   "metadata": {},
   "outputs": [],
   "source": [
    "N = 1000\n",
    "d = 5\n",
    "\n",
    "w_actual = np.arange(5)\n",
    "b_actual = 2.0\n",
    "theta_actual = np.concat((w_actual, [b_actual]))\n",
    "X = np.random.randn(N, d)\n",
    "y = (X @ w_actual.reshape(-1, 1)).squeeze() + b_actual + 0.01 * np.random.randn(N)"
   ]
  },
  {
   "cell_type": "code",
   "execution_count": 369,
   "id": "d8589a07-385d-45fa-ab3e-82c222c08807",
   "metadata": {},
   "outputs": [],
   "source": [
    "def predict(X, theta):\n",
    "    N, d = X.shape\n",
    "    X = np.concat((X, np.ones((N, 1))), axis=1)\n",
    "    # print(X)\n",
    "    return (X @ theta.reshape(-1, 1)).squeeze()"
   ]
  },
  {
   "cell_type": "code",
   "execution_count": 370,
   "id": "5aee7224-83bf-4ce2-87ad-8bff700de6d9",
   "metadata": {},
   "outputs": [],
   "source": [
    "def compute_loss(y, y_pred):\n",
    "    return ((y - y_pred) ** 2).mean()"
   ]
  },
  {
   "cell_type": "code",
   "execution_count": 371,
   "id": "6d80b1fa-2d08-45e5-812b-ee56f1616a0b",
   "metadata": {},
   "outputs": [],
   "source": [
    "def grad(y, y_pred, X):\n",
    "    N, d = X.shape\n",
    "    X = np.concat((X, np.ones((N, 1))), axis=1)\n",
    "    # y - y_pred: N * 1\n",
    "    # X: N * (d + 1)\n",
    "    g = 2 * ((y - y_pred).reshape(-1, 1) * (-X)).mean(axis=0)  # (d+1, )\n",
    "    return g"
   ]
  },
  {
   "cell_type": "code",
   "execution_count": 372,
   "id": "f40c97b6-8a6c-484e-bdcc-e0fdabb23e30",
   "metadata": {},
   "outputs": [],
   "source": [
    "import matplotlib.pyplot as plt"
   ]
  },
  {
   "cell_type": "code",
   "execution_count": 373,
   "id": "5ed9b6ad-7554-4fcf-9c2c-4c3401319927",
   "metadata": {},
   "outputs": [
    {
     "data": {
      "text/plain": [
       "[<matplotlib.lines.Line2D at 0x7880997d3c50>]"
      ]
     },
     "execution_count": 373,
     "metadata": {},
     "output_type": "execute_result"
    },
    {
     "data": {
      "image/png": "[encoded data removed]",
      "text/plain": [
       "<Figure size 640x480 with 1 Axes>"
      ]
     },
     "metadata": {},
     "output_type": "display_data"
    }
   ],
   "source": [
    "theta = np.random.randn(d + 1)\n",
    "B = 20\n",
    "\n",
    "steps = 200\n",
    "lr = 1e-2\n",
    "\n",
    "losses = []\n",
    "for i in range(steps):\n",
    "    idx = np.random.choice(np.arange(N), size=B)\n",
    "    y_batch = y[idx]\n",
    "    X_batch = X[idx, :]\n",
    "\n",
    "    y_pred = predict(X_batch, theta)\n",
    "    # print(y_pred)\n",
    "    loss = compute_loss(y_batch, y_pred)\n",
    "    theta = theta - lr * grad(y_batch, y_pred, X_batch)\n",
    "    losses.append(loss)\n",
    "\n",
    "plt.plot(losses)"
   ]
  },
  {
   "cell_type": "code",
   "execution_count": 375,
   "id": "59acae1b-d4b7-4feb-998b-0c8fb7ecd3f2",
   "metadata": {},
   "outputs": [
    {
     "data": {
      "text/plain": [
       "[<matplotlib.lines.Line2D at 0x788099925d50>]"
      ]
     },
     "execution_count": 375,
     "metadata": {},
     "output_type": "execute_result"
    },
    {
     "data": {
      "image/png": "[encoded data removed]",
      "text/plain": [
       "<Figure size 640x480 with 1 Axes>"
      ]
     },
     "metadata": {},
     "output_type": "display_data"
    }
   ],
   "source": [
    "plt.plot(theta, theta_actual, '.')"
   ]
  },
  {
   "cell_type": "code",
   "execution_count": 376,
   "id": "9753b382-c6d2-44da-bbc5-ee4c2236698c",
   "metadata": {},
   "outputs": [
    {
     "data": {
      "text/plain": [
       "array([0.00898021, 0.91640744, 1.94663781, 2.95315192, 3.93852638,\n",
       "       1.94009543])"
      ]
     },
     "execution_count": 376,
     "metadata": {},
     "output_type": "execute_result"
    }
   ],
   "source": [
    "theta"
   ]
  },
  {
   "cell_type": "code",
   "execution_count": 377,
   "id": "fb167faa-c3ce-4277-97ae-9c26b9c15af9",
   "metadata": {},
   "outputs": [
    {
     "data": {
      "text/plain": [
       "array([0., 1., 2., 3., 4., 2.])"
      ]
     },
     "execution_count": 377,
     "metadata": {},
     "output_type": "execute_result"
    }
   ],
   "source": [
    "theta_actual"
   ]
  },
  {
   "cell_type": "markdown",
   "id": "03edfe4e-b0db-4352-88d7-2ce83b3f6e63",
   "metadata": {},
   "source": [
    "# Softmax\n",
    "\n",
    "$Softmax(x_i) = \\frac{\\exp(x_i)}{\\sum_j \\exp(x_j)}$"
   ]
  },
  {
   "cell_type": "code",
   "execution_count": 379,
   "id": "7fbd57be-a6e9-44a7-94b1-4aecd5ca295a",
   "metadata": {},
   "outputs": [],
   "source": [
    "def softmax(x, dim=-1):\n",
    "    exp_x = np.exp(x)\n",
    "    sum_exp_x = exp_x.sum(axis=dim, keepdims=True)\n",
    "    return exp_x / sum_exp_x"
   ]
  },
  {
   "cell_type": "code",
   "execution_count": 381,
   "id": "32564a14-06c5-49f3-a258-b702c40c9e1c",
   "metadata": {},
   "outputs": [],
   "source": [
    "x = np.random.randn(10, 5)"
   ]
  },
  {
   "cell_type": "code",
   "execution_count": 386,
   "id": "100164a3-804b-4d9a-8d6f-dae550c9ab22",
   "metadata": {},
   "outputs": [],
   "source": [
    "y = softmax(x, dim=0)"
   ]
  },
  {
   "cell_type": "code",
   "execution_count": 388,
   "id": "a954c04e-614a-4967-aa39-60def6d6aa69",
   "metadata": {},
   "outputs": [
    {
     "data": {
      "text/plain": [
       "array([[1., 1., 1., 1., 1.]])"
      ]
     },
     "execution_count": 388,
     "metadata": {},
     "output_type": "execute_result"
    }
   ],
   "source": [
    "y.sum(axis=0, keepdims=True)"
   ]
  },
  {
   "cell_type": "code",
   "execution_count": 389,
   "id": "24e811ca-233a-4319-a635-901a945dfcc3",
   "metadata": {},
   "outputs": [
    {
     "data": {
      "text/plain": [
       "array([[0.04872898, 0.03235893, 0.02621826, 0.04493025, 0.07291312],\n",
       "       [0.0168494 , 0.06874067, 0.03753025, 0.07160909, 0.13267702],\n",
       "       [0.02825471, 0.0830508 , 0.0163771 , 0.02289387, 0.14609818],\n",
       "       [0.07800152, 0.02705464, 0.29074718, 0.03414137, 0.0284455 ],\n",
       "       [0.02545841, 0.41262244, 0.07193617, 0.02656332, 0.05928634],\n",
       "       [0.04695699, 0.02304539, 0.05752312, 0.36875725, 0.21467786],\n",
       "       [0.07715349, 0.14674067, 0.12735202, 0.03414291, 0.13046148],\n",
       "       [0.44638237, 0.14071905, 0.10733467, 0.03132424, 0.11341008],\n",
       "       [0.04173699, 0.00948332, 0.13475645, 0.35591059, 0.09143086],\n",
       "       [0.19047714, 0.05618409, 0.13022479, 0.00972711, 0.01059956]])"
      ]
     },
     "execution_count": 389,
     "metadata": {},
     "output_type": "execute_result"
    }
   ],
   "source": [
    "y"
   ]
  },
  {
   "cell_type": "code",
   "execution_count": 394,
   "id": "e8efbc7c-5c30-445f-8fdf-1901485b9885",
   "metadata": {},
   "outputs": [],
   "source": [
    "import torch\n",
    "import torch.nn as nn\n",
    "import torch.nn.functional as F"
   ]
  },
  {
   "cell_type": "code",
   "execution_count": 392,
   "id": "82efec08-a1b6-4fb9-a888-46145479c4f9",
   "metadata": {},
   "outputs": [],
   "source": [
    "yt = F.softmax(torch.as_tensor(x), dim=0)"
   ]
  },
  {
   "cell_type": "code",
   "execution_count": 393,
   "id": "bba64c29-a1f4-4804-a459-97455ae528e2",
   "metadata": {},
   "outputs": [],
   "source": [
    "torch.testing.assert_close(torch.as_tensor(y), yt)"
   ]
  },
  {
   "cell_type": "code",
   "execution_count": 396,
   "id": "7168d942-3036-4513-a6d1-658f89be5ad2",
   "metadata": {},
   "outputs": [],
   "source": [
    "sm = nn.Softmax(dim=0)"
   ]
  },
  {
   "cell_type": "code",
   "execution_count": 397,
   "id": "580de8c4-5b6a-44c8-9628-b415b3fc9275",
   "metadata": {},
   "outputs": [],
   "source": [
    "yt1 = sm(torch.as_tensor(x))"
   ]
  },
  {
   "cell_type": "code",
   "execution_count": 399,
   "id": "2e698227-9c64-4b40-8ca4-a59edd828604",
   "metadata": {},
   "outputs": [],
   "source": [
    "torch.testing.assert_close(yt, torch.as_tensor(y))"
   ]
  },
  {
   "cell_type": "code",
   "execution_count": 400,
   "id": "4a5130a9-a0a8-4e56-b947-64eece7c72f2",
   "metadata": {},
   "outputs": [
    {
     "data": {
      "text/plain": [
       "array([1., 1., 1., 1., 1.])"
      ]
     },
     "execution_count": 400,
     "metadata": {},
     "output_type": "execute_result"
    }
   ],
   "source": [
    "y.sum(axis=0)"
   ]
  },
  {
   "cell_type": "code",
   "execution_count": 401,
   "id": "b22b1952-56a8-4518-9d7c-6031315d44fe",
   "metadata": {},
   "outputs": [
    {
     "data": {
      "text/plain": [
       "array([[0.04872898, 0.03235893, 0.02621826, 0.04493025, 0.07291312],\n",
       "       [0.0168494 , 0.06874067, 0.03753025, 0.07160909, 0.13267702],\n",
       "       [0.02825471, 0.0830508 , 0.0163771 , 0.02289387, 0.14609818],\n",
       "       [0.07800152, 0.02705464, 0.29074718, 0.03414137, 0.0284455 ],\n",
       "       [0.02545841, 0.41262244, 0.07193617, 0.02656332, 0.05928634],\n",
       "       [0.04695699, 0.02304539, 0.05752312, 0.36875725, 0.21467786],\n",
       "       [0.07715349, 0.14674067, 0.12735202, 0.03414291, 0.13046148],\n",
       "       [0.44638237, 0.14071905, 0.10733467, 0.03132424, 0.11341008],\n",
       "       [0.04173699, 0.00948332, 0.13475645, 0.35591059, 0.09143086],\n",
       "       [0.19047714, 0.05618409, 0.13022479, 0.00972711, 0.01059956]])"
      ]
     },
     "execution_count": 401,
     "metadata": {},
     "output_type": "execute_result"
    }
   ],
   "source": [
    "y"
   ]
  },
  {
   "cell_type": "markdown",
   "id": "997ee761-7a57-4eda-979e-da669b28ee4f",
   "metadata": {},
   "source": [
    "# KMeans"
   ]
  },
  {
   "cell_type": "code",
   "execution_count": 420,
   "id": "a66228a1-fade-403d-a412-d287ec18627c",
   "metadata": {},
   "outputs": [],
   "source": [
    "import numpy as np\n",
    "import matplotlib.pyplot as plt"
   ]
  },
  {
   "cell_type": "code",
   "execution_count": 433,
   "id": "6076e8f1-bbf4-4c88-a181-956d21e37c82",
   "metadata": {},
   "outputs": [
    {
     "data": {
      "image/png": "[encoded data removed]",
      "text/plain": [
       "<Figure size 640x480 with 1 Axes>"
      ]
     },
     "metadata": {},
     "output_type": "display_data"
    },
    {
     "data": {
      "image/png": "[encoded data removed]",
      "text/plain": [
       "<Figure size 640x480 with 1 Axes>"
      ]
     },
     "metadata": {},
     "output_type": "display_data"
    },
    {
     "data": {
      "image/png": "[encoded data removed]",
      "text/plain": [
       "<Figure size 640x480 with 1 Axes>"
      ]
     },
     "metadata": {},
     "output_type": "display_data"
    }
   ],
   "source": [
    "N = 100\n",
    "d = 2\n",
    "x = np.random.randn(N, d)\n",
    "k = 3\n",
    "centroids = np.random.randn(k, d)\n",
    "diff = float('inf')\n",
    "eps = 1e-3\n",
    "max_iter = 10\n",
    "i = 0\n",
    "while i < max_iter and diff > eps:\n",
    "    distance = ((centroids.reshape(k, 1, d) - x.reshape(1, N, d)) ** 2).mean(axis=-1)  # k, N\n",
    "    group_idx = np.argmin(distance, axis=0) # N, \n",
    "    mask = np.arange(k) == group_idx[:, None]\n",
    "    new_centroids = (mask.reshape(N, k, 1) * x.reshape(N, 1, d)).mean(axis=0)\n",
    "\n",
    "    plt.figure()\n",
    "    plt.scatter(x[:, 0], x[:, 1], c=group_idx)\n",
    "    plt.scatter(centroids[:, 0], centroids[:, 1], marker='x')\n",
    "    plt.scatter(new_centroids[:, 0], new_centroids[:, 1], marker='x')\n",
    "    \n",
    "    diff = ((new_centroids - centroids)**2).mean()\n",
    "    centroids = new_centroids\n",
    "    i += 1\n",
    "    "
   ]
  },
  {
   "cell_type": "markdown",
   "id": "60db9df5-d222-4b2d-bfc7-3efe7edb65af",
   "metadata": {},
   "source": [
    "# Numpy"
   ]
  },
  {
   "cell_type": "code",
   "execution_count": 428,
   "id": "545f8f6c-24c7-4ff3-9308-9cec78dd845c",
   "metadata": {},
   "outputs": [],
   "source": [
    "import numpy as np"
   ]
  },
  {
   "cell_type": "code",
   "execution_count": 432,
   "id": "9515ce99-1e44-41c8-93ac-88fcf347ed03",
   "metadata": {},
   "outputs": [
    {
     "data": {
      "text/plain": [
       "array([[1, 2, 3, 4]])"
      ]
     },
     "execution_count": 432,
     "metadata": {},
     "output_type": "execute_result"
    }
   ],
   "source": [
    "np.array([1, 2, 3, 4], ndmin=2)"
   ]
  },
  {
   "cell_type": "markdown",
   "id": "5eee081d-f2a7-45a8-b4eb-88ac4199c090",
   "metadata": {},
   "source": [
    "# Logistic Regression"
   ]
  },
  {
   "cell_type": "code",
   "execution_count": 13,
   "id": "f2b067f5-ff0a-442b-af3e-01ce47f641c6",
   "metadata": {},
   "outputs": [],
   "source": [
    "import numpy as np\n",
    "import matplotlib.pyplot as plt"
   ]
  },
  {
   "cell_type": "code",
   "execution_count": 2,
   "id": "5dca2090-5982-4016-b917-050f6d8e0904",
   "metadata": {},
   "outputs": [],
   "source": [
    "def sigmoid(x):\n",
    "    return 1 / (1 + np.exp(-x))"
   ]
  },
  {
   "cell_type": "code",
   "execution_count": 3,
   "id": "77ab4a4c-3de3-4c63-9532-fe6c48f2d455",
   "metadata": {},
   "outputs": [],
   "source": [
    "def grad_sigmoid(x):\n",
    "    return np.diag(sigmoid(x) * (1 - sigmoid(x)))"
   ]
  },
  {
   "cell_type": "code",
   "execution_count": 4,
   "id": "878add65-f7cd-44b8-991d-6062b605bc50",
   "metadata": {},
   "outputs": [],
   "source": [
    "def linear(x, theta):\n",
    "    \"\"\"\n",
    "    x - N, d\n",
    "    theta - d + 1, \n",
    "\n",
    "    Returns:\n",
    "    y - N, \n",
    "    \"\"\"\n",
    "    N, d = x.shape\n",
    "    p, = theta.shape\n",
    "    assert p == d + 1\n",
    "    x = np.concat((x, np.ones((N, 1))), axis=1)\n",
    "    return (x @ theta).squeeze()"
   ]
  },
  {
   "cell_type": "code",
   "execution_count": 5,
   "id": "c9500bf4-fef8-49b0-a216-b2792b8c4498",
   "metadata": {},
   "outputs": [],
   "source": [
    "def grad_linear(x):\n",
    "    N, d = x.shape\n",
    "    return np.concat((x, np.ones((N, 1))), axis=1)"
   ]
  },
  {
   "cell_type": "code",
   "execution_count": 6,
   "id": "cb458e5a-7c79-4b0b-a34f-2e33af11bec2",
   "metadata": {},
   "outputs": [],
   "source": [
    "def compute_loss(y, logits):\n",
    "    \"\"\"\n",
    "    y - N, \n",
    "    logits - N, \n",
    "    \"\"\"\n",
    "    return - (y * np.log(sigmoid(logits)) + (1 - y) * np.log(1 - sigmoid(logits))).mean()"
   ]
  },
  {
   "cell_type": "code",
   "execution_count": 7,
   "id": "559416d7-b3c0-4db1-9fe9-6c3706dba45b",
   "metadata": {},
   "outputs": [],
   "source": [
    "def loss_grad(y, logits):\n",
    "    N = y.size\n",
    "    return - (y - sigmoid(logits)) / N"
   ]
  },
  {
   "cell_type": "code",
   "execution_count": 8,
   "id": "1146bbb2-f2ee-4525-b265-9bbdb9ddadfb",
   "metadata": {},
   "outputs": [],
   "source": [
    "from sklearn.datasets import load_iris\n",
    "x, y = load_iris(return_X_y=True)\n",
    "y = y == 1"
   ]
  },
  {
   "cell_type": "code",
   "execution_count": 10,
   "id": "4a15d883-2c45-4cb6-ad8c-74529a53c030",
   "metadata": {},
   "outputs": [
    {
     "data": {
      "text/plain": [
       "(150, 4)"
      ]
     },
     "execution_count": 10,
     "metadata": {},
     "output_type": "execute_result"
    }
   ],
   "source": [
    "x.shape"
   ]
  },
  {
   "cell_type": "code",
   "execution_count": 11,
   "id": "da6c7ebd-6660-452a-b15c-0b825b804ca6",
   "metadata": {},
   "outputs": [
    {
     "data": {
      "text/plain": [
       "array([False, False, False, False, False, False, False, False, False,\n",
       "       False, False, False, False, False, False, False, False, False,\n",
       "       False, False, False, False, False, False, False, False, False,\n",
       "       False, False, False, False, False, False, False, False, False,\n",
       "       False, False, False, False, False, False, False, False, False,\n",
       "       False, False, False, False, False,  True,  True,  True,  True,\n",
       "        True,  True,  True,  True,  True,  True,  True,  True,  True,\n",
       "        True,  True,  True,  True,  True,  True,  True,  True,  True,\n",
       "        True,  True,  True,  True,  True,  True,  True,  True,  True,\n",
       "        True,  True,  True,  True,  True,  True,  True,  True,  True,\n",
       "        True,  True,  True,  True,  True,  True,  True,  True,  True,\n",
       "        True, False, False, False, False, False, False, False, False,\n",
       "       False, False, False, False, False, False, False, False, False,\n",
       "       False, False, False, False, False, False, False, False, False,\n",
       "       False, False, False, False, False, False, False, False, False,\n",
       "       False, False, False, False, False, False, False, False, False,\n",
       "       False, False, False, False, False, False])"
      ]
     },
     "execution_count": 11,
     "metadata": {},
     "output_type": "execute_result"
    }
   ],
   "source": [
    "y"
   ]
  },
  {
   "cell_type": "code",
   "execution_count": 18,
   "id": "fd3397ef-6bcc-4ab5-8541-6cb8b06f6bc4",
   "metadata": {},
   "outputs": [
    {
     "data": {
      "text/plain": [
       "[<matplotlib.lines.Line2D at 0x7cb3b4e45450>]"
      ]
     },
     "execution_count": 18,
     "metadata": {},
     "output_type": "execute_result"
    },
    {
     "data": {
      "image/png": "[encoded data removed]",
      "text/plain": [
       "<Figure size 640x480 with 1 Axes>"
      ]
     },
     "metadata": {},
     "output_type": "display_data"
    }
   ],
   "source": [
    "# N = 1000\n",
    "# d = 3\n",
    "# x = np.random.randn(N, d)\n",
    "# y = np.random.randint(0, 2, size=N)\n",
    "N, d = x.shape\n",
    "theta = np.random.randn(d + 1)\n",
    "lr = 1e-2\n",
    "batch_size = 50\n",
    "\n",
    "iters = 500\n",
    "\n",
    "losses = []\n",
    "for i in range(iters):\n",
    "    batch_idx = np.random.choice(np.arange(N), size=batch_size)\n",
    "    x_batch = x[batch_idx, :]\n",
    "    y_batch = y[batch_idx]\n",
    "    # print(x_batch)\n",
    "    logits = linear(x_batch, theta)\n",
    "    loss = compute_loss(y_batch, logits)\n",
    "    grad = loss_grad(y_batch, logits) @ grad_linear(x_batch)\n",
    "    \n",
    "    theta = theta - lr * grad\n",
    "    losses.append(loss)\n",
    "    # print(f\"iter {i}: {loss}\")\n",
    "\n",
    "plt.plot(losses)"
   ]
  },
  {
   "cell_type": "markdown",
   "id": "a8c22b3c-8cac-4763-b44c-22ba81cfa228",
   "metadata": {},
   "source": [
    "# Grad"
   ]
  },
  {
   "cell_type": "code",
   "execution_count": null,
   "id": "7e6b3cb6-6449-421c-b94b-f2d141a9ee7f",
   "metadata": {},
   "outputs": [],
   "source": [
    "import torch"
   ]
  },
  {
   "cell_type": "code",
   "execution_count": 20,
   "id": "7e86417f-14ae-456c-aca6-96a4fae0363f",
   "metadata": {},
   "outputs": [],
   "source": [
    "N = 10\n",
    "d = 3\n",
    "x = torch.randn(N, d)\n",
    "theta = torch.randn(d, requires_grad=True)"
   ]
  },
  {
   "cell_type": "code",
   "execution_count": 21,
   "id": "ce73d23b-6935-45ec-b498-93d1b3663464",
   "metadata": {},
   "outputs": [
    {
     "data": {
      "text/plain": [
       "tensor([ 0.4841, -0.6432, -0.0329], requires_grad=True)"
      ]
     },
     "execution_count": 21,
     "metadata": {},
     "output_type": "execute_result"
    }
   ],
   "source": [
    "theta"
   ]
  },
  {
   "cell_type": "code",
   "execution_count": 23,
   "id": "f396625a-c611-483e-81eb-408915218cc8",
   "metadata": {},
   "outputs": [],
   "source": [
    "y = x @ theta"
   ]
  },
  {
   "cell_type": "code",
   "execution_count": 24,
   "id": "8c1d2894-c807-496d-aa2f-88778e8a4388",
   "metadata": {},
   "outputs": [
    {
     "data": {
      "text/plain": [
       "tensor([-0.2019, -0.1515, -0.0587,  0.5121,  1.9065,  1.4405, -0.9580, -0.4554,\n",
       "        -0.3189,  0.1296], grad_fn=<MvBackward0>)"
      ]
     },
     "execution_count": 24,
     "metadata": {},
     "output_type": "execute_result"
    }
   ],
   "source": [
    "y"
   ]
  },
  {
   "cell_type": "code",
   "execution_count": 26,
   "id": "ee6a32eb-20fe-43fd-b1ec-b79f0db278a9",
   "metadata": {},
   "outputs": [],
   "source": [
    "loss = y.mean()"
   ]
  },
  {
   "cell_type": "code",
   "execution_count": 27,
   "id": "d41360e2-b5c4-4ac1-a67f-c01f3d757992",
   "metadata": {},
   "outputs": [],
   "source": [
    "loss.backward()"
   ]
  },
  {
   "cell_type": "code",
   "execution_count": 29,
   "id": "4eb440cd-6339-4f86-a6c6-9c5efe346cc8",
   "metadata": {},
   "outputs": [
    {
     "data": {
      "text/plain": [
       "tensor([-0.0430, -0.2914, -0.5404])"
      ]
     },
     "execution_count": 29,
     "metadata": {},
     "output_type": "execute_result"
    }
   ],
   "source": [
    "theta.grad"
   ]
  },
  {
   "cell_type": "code",
   "execution_count": 30,
   "id": "d71b10dc-890c-406c-b50b-f59ac66149e7",
   "metadata": {},
   "outputs": [],
   "source": [
    "mean_grad = 1 / N * torch.ones(N)"
   ]
  },
  {
   "cell_type": "code",
   "execution_count": 32,
   "id": "b20a65ce-3047-4127-9b95-74253c5978d1",
   "metadata": {},
   "outputs": [],
   "source": [
    "y.retain_grad()"
   ]
  },
  {
   "cell_type": "code",
   "execution_count": 33,
   "id": "df35dac6-70fe-47a6-b726-dbf33dab7e50",
   "metadata": {},
   "outputs": [],
   "source": [
    "y.grad"
   ]
  },
  {
   "cell_type": "code",
   "execution_count": 34,
   "id": "2db12962-8988-4553-a4a8-1d15f46eb4da",
   "metadata": {},
   "outputs": [
    {
     "data": {
      "text/plain": [
       "tensor([-0.0430, -0.2914, -0.5404])"
      ]
     },
     "execution_count": 34,
     "metadata": {},
     "output_type": "execute_result"
    }
   ],
   "source": [
    "theta.grad"
   ]
  },
  {
   "cell_type": "code",
   "execution_count": 35,
   "id": "477e7a53-04a2-4630-bbab-c8424f564545",
   "metadata": {},
   "outputs": [],
   "source": [
    "linear_grad = x"
   ]
  },
  {
   "cell_type": "code",
   "execution_count": 36,
   "id": "573de8db-4d9a-4c7f-8983-88220652898f",
   "metadata": {},
   "outputs": [
    {
     "data": {
      "text/plain": [
       "tensor([-0.0430, -0.2914, -0.5404])"
      ]
     },
     "execution_count": 36,
     "metadata": {},
     "output_type": "execute_result"
    }
   ],
   "source": [
    "mean_grad @ linear_grad"
   ]
  },
  {
   "cell_type": "markdown",
   "id": "e5387353-79d2-4fea-9393-a45e1e94959d",
   "metadata": {},
   "source": [
    "# Auto Diff"
   ]
  },
  {
   "cell_type": "code",
   "execution_count": 15,
   "id": "f5f1fb66-66ff-41a6-9b34-f6ed833f7b84",
   "metadata": {},
   "outputs": [],
   "source": [
    "from graphviz import Digraph"
   ]
  },
  {
   "cell_type": "code",
   "execution_count": 51,
   "id": "361158b2-6c7f-4cf6-8e65-7510abc51e26",
   "metadata": {},
   "outputs": [],
   "source": [
    "def draw_graph(root):\n",
    "    nodes = set()\n",
    "    edges = set()\n",
    "    def build(root):\n",
    "        nodes.add(root)\n",
    "        for ch in root._children:\n",
    "            edges.add((ch, root))\n",
    "            if ch not in nodes:\n",
    "                build(ch)\n",
    "    build(root)\n",
    "\n",
    "    dot = Digraph('compute-graph', graph_attr={'rankdir': 'LR'})\n",
    "    for n in nodes:\n",
    "        dot.node(str(id(n)), f\"{{{n.label} | data: {n.data:.3f} | grad: {n.grad:.3f}}}\", shape='record')\n",
    "        if n._op:\n",
    "            dot.node(str(id(n)) + n._op, n._op)\n",
    "            dot.edge(str(id(n)) + n._op, str(id(n)))\n",
    "\n",
    "    for a, b in edges:\n",
    "        dot.edge(str(id(a)), str(id(b)) + b._op)\n",
    "    return dot\n",
    "            "
   ]
  },
  {
   "cell_type": "code",
   "execution_count": 52,
   "id": "318ad43b-5aaa-4894-b0c2-6ca443bdf3ca",
   "metadata": {},
   "outputs": [
    {
     "data": {
      "image/svg+xml": [
       "<?xml version=\"1.0\" encoding=\"UTF-8\" standalone=\"no\"?>\n",
       "<!DOCTYPE svg PUBLIC \"-//W3C//DTD SVG 1.1//EN\"\n",
       " \"http://www.w3.org/Graphics/SVG/1.1/DTD/svg11.dtd\">\n",
       "<!-- Generated by graphviz version 2.43.0 (0)\n",
       " -->\n",
       "<!-- Title: compute&#45;graph Pages: 1 -->\n",
       "<svg width=\"578pt\" height=\"100pt\"\n",
       " viewBox=\"0.00 0.00 578.00 100.00\" xmlns=\"http://www.w3.org/2000/svg\" xmlns:xlink=\"http://www.w3.org/1999/xlink\">\n",
       "<g id=\"graph0\" class=\"graph\" transform=\"scale(1 1) rotate(0) translate(4 96)\">\n",
       "<title>compute&#45;graph</title>\n",
       "<polygon fill=\"white\" stroke=\"transparent\" points=\"-4,4 -4,-96 574,-96 574,4 -4,4\"/>\n",
       "<!-- 129862324704528 -->\n",
       "<g id=\"node1\" class=\"node\">\n",
       "<title>129862324704528</title>\n",
       "<polygon fill=\"none\" stroke=\"black\" points=\"0,-55.5 0,-91.5 223,-91.5 223,-55.5 0,-55.5\"/>\n",
       "<text text-anchor=\"middle\" x=\"13\" y=\"-69.8\" font-family=\"Times,serif\" font-size=\"14.00\">b</text>\n",
       "<polyline fill=\"none\" stroke=\"black\" points=\"26,-55.5 26,-91.5 \"/>\n",
       "<text text-anchor=\"middle\" x=\"75\" y=\"-69.8\" font-family=\"Times,serif\" font-size=\"14.00\">data: 2.000</text>\n",
       "<polyline fill=\"none\" stroke=\"black\" points=\"124,-55.5 124,-91.5 \"/>\n",
       "<text text-anchor=\"middle\" x=\"173.5\" y=\"-69.8\" font-family=\"Times,serif\" font-size=\"14.00\">grad: 0.000</text>\n",
       "</g>\n",
       "<!-- 129862329253328+ -->\n",
       "<g id=\"node4\" class=\"node\">\n",
       "<title>129862329253328+</title>\n",
       "<ellipse fill=\"none\" stroke=\"black\" cx=\"286\" cy=\"-45.5\" rx=\"27\" ry=\"18\"/>\n",
       "<text text-anchor=\"middle\" x=\"286\" y=\"-41.8\" font-family=\"Times,serif\" font-size=\"14.00\">+</text>\n",
       "</g>\n",
       "<!-- 129862324704528&#45;&gt;129862329253328+ -->\n",
       "<g id=\"edge2\" class=\"edge\">\n",
       "<title>129862324704528&#45;&gt;129862329253328+</title>\n",
       "<path fill=\"none\" stroke=\"black\" d=\"M223.21,-55.53C232.61,-54 241.58,-52.55 249.64,-51.24\"/>\n",
       "<polygon fill=\"black\" stroke=\"black\" points=\"250.34,-54.67 259.65,-49.61 249.22,-47.76 250.34,-54.67\"/>\n",
       "</g>\n",
       "<!-- 129862330552912 -->\n",
       "<g id=\"node2\" class=\"node\">\n",
       "<title>129862330552912</title>\n",
       "<polygon fill=\"none\" stroke=\"black\" points=\"0.5,-0.5 0.5,-36.5 222.5,-36.5 222.5,-0.5 0.5,-0.5\"/>\n",
       "<text text-anchor=\"middle\" x=\"13\" y=\"-14.8\" font-family=\"Times,serif\" font-size=\"14.00\">a</text>\n",
       "<polyline fill=\"none\" stroke=\"black\" points=\"25.5,-0.5 25.5,-36.5 \"/>\n",
       "<text text-anchor=\"middle\" x=\"74.5\" y=\"-14.8\" font-family=\"Times,serif\" font-size=\"14.00\">data: 1.000</text>\n",
       "<polyline fill=\"none\" stroke=\"black\" points=\"123.5,-0.5 123.5,-36.5 \"/>\n",
       "<text text-anchor=\"middle\" x=\"173\" y=\"-14.8\" font-family=\"Times,serif\" font-size=\"14.00\">grad: 0.000</text>\n",
       "</g>\n",
       "<!-- 129862330552912&#45;&gt;129862329253328+ -->\n",
       "<g id=\"edge3\" class=\"edge\">\n",
       "<title>129862330552912&#45;&gt;129862329253328+</title>\n",
       "<path fill=\"none\" stroke=\"black\" d=\"M222.72,-35.75C232.18,-37.23 241.22,-38.65 249.34,-39.92\"/>\n",
       "<polygon fill=\"black\" stroke=\"black\" points=\"249.01,-43.41 259.43,-41.5 250.09,-36.49 249.01,-43.41\"/>\n",
       "</g>\n",
       "<!-- 129862329253328 -->\n",
       "<g id=\"node3\" class=\"node\">\n",
       "<title>129862329253328</title>\n",
       "<polygon fill=\"none\" stroke=\"black\" points=\"349,-27.5 349,-63.5 570,-63.5 570,-27.5 349,-27.5\"/>\n",
       "<text text-anchor=\"middle\" x=\"361\" y=\"-41.8\" font-family=\"Times,serif\" font-size=\"14.00\">c</text>\n",
       "<polyline fill=\"none\" stroke=\"black\" points=\"373,-27.5 373,-63.5 \"/>\n",
       "<text text-anchor=\"middle\" x=\"422\" y=\"-41.8\" font-family=\"Times,serif\" font-size=\"14.00\">data: 3.000</text>\n",
       "<polyline fill=\"none\" stroke=\"black\" points=\"471,-27.5 471,-63.5 \"/>\n",
       "<text text-anchor=\"middle\" x=\"520.5\" y=\"-41.8\" font-family=\"Times,serif\" font-size=\"14.00\">grad: 0.000</text>\n",
       "</g>\n",
       "<!-- 129862329253328+&#45;&gt;129862329253328 -->\n",
       "<g id=\"edge1\" class=\"edge\">\n",
       "<title>129862329253328+&#45;&gt;129862329253328</title>\n",
       "<path fill=\"none\" stroke=\"black\" d=\"M313.05,-45.5C320.48,-45.5 329.1,-45.5 338.36,-45.5\"/>\n",
       "<polygon fill=\"black\" stroke=\"black\" points=\"338.64,-49 348.64,-45.5 338.64,-42 338.64,-49\"/>\n",
       "</g>\n",
       "</g>\n",
       "</svg>\n"
      ],
      "text/plain": [
       "<graphviz.graphs.Digraph at 0x761bedb4c390>"
      ]
     },
     "execution_count": 52,
     "metadata": {},
     "output_type": "execute_result"
    }
   ],
   "source": [
    "draw_graph(c)"
   ]
  },
  {
   "cell_type": "code",
   "execution_count": 95,
   "id": "c34cd87c-cfbc-41a9-a2b4-3075fe43f076",
   "metadata": {},
   "outputs": [],
   "source": [
    "class Value:\n",
    "    def __init__(self, data, children=[], op='', label=''):\n",
    "        self.data = data\n",
    "        self.grad = 0.0\n",
    "        self._backward = lambda: None\n",
    "        self._children = children\n",
    "        self._op = op\n",
    "        self.label = label\n",
    "        \n",
    "    def __repr__(self):\n",
    "        return f\"Value(data={self.data}, grad={self.grad})\"\n",
    "\n",
    "    def __add__(self, other):\n",
    "        out = Value(self.data + other.data, children=[self, other], op='+')\n",
    "        def backward():\n",
    "            self.grad += out.grad\n",
    "            other.grad += out.grad\n",
    "\n",
    "        out._backward = backward\n",
    "        return out\n",
    "\n",
    "    def __mul__(self, other):\n",
    "        out = Value(self.data * other.data, children=[self, other], op='*')\n",
    "        def backward():\n",
    "            self.grad += other.data * out.grad\n",
    "            other.grad += self.data * out.grad\n",
    "        out._backward = backward\n",
    "        return out\n",
    "\n",
    "    def backward(self):\n",
    "        visited = set()\n",
    "        sorted_nodes = []\n",
    "        def topo_sort(root):\n",
    "            for ch in root._children:\n",
    "                if ch not in visited:\n",
    "                    visited.add(ch)\n",
    "                    topo_sort(ch)\n",
    "            sorted_nodes.append(root)\n",
    "\n",
    "        topo_sort(self)\n",
    "        self.grad = 1.0\n",
    "        for node in sorted_nodes[::-1]:\n",
    "            node._backward()"
   ]
  },
  {
   "cell_type": "code",
   "execution_count": 96,
   "id": "5d3e9837-e4bf-4173-be65-c6b087cefc78",
   "metadata": {},
   "outputs": [],
   "source": [
    "a = Value(1, label='a')\n",
    "b = Value(2, label='b')\n",
    "c = a + b; c.label = 'c'\n",
    "d = b * c; d.label = 'd'"
   ]
  },
  {
   "cell_type": "code",
   "execution_count": 97,
   "id": "c52d2ef9-993f-4d72-89b2-b7463d5b5b06",
   "metadata": {},
   "outputs": [
    {
     "data": {
      "image/svg+xml": [
       "<?xml version=\"1.0\" encoding=\"UTF-8\" standalone=\"no\"?>\n",
       "<!DOCTYPE svg PUBLIC \"-//W3C//DTD SVG 1.1//EN\"\n",
       " \"http://www.w3.org/Graphics/SVG/1.1/DTD/svg11.dtd\">\n",
       "<!-- Generated by graphviz version 2.43.0 (0)\n",
       " -->\n",
       "<!-- Title: compute&#45;graph Pages: 1 -->\n",
       "<svg width=\"927pt\" height=\"100pt\"\n",
       " viewBox=\"0.00 0.00 927.00 100.00\" xmlns=\"http://www.w3.org/2000/svg\" xmlns:xlink=\"http://www.w3.org/1999/xlink\">\n",
       "<g id=\"graph0\" class=\"graph\" transform=\"scale(1 1) rotate(0) translate(4 96)\">\n",
       "<title>compute&#45;graph</title>\n",
       "<polygon fill=\"white\" stroke=\"transparent\" points=\"-4,4 -4,-96 923,-96 923,4 -4,4\"/>\n",
       "<!-- 129862324514512 -->\n",
       "<g id=\"node1\" class=\"node\">\n",
       "<title>129862324514512</title>\n",
       "<polygon fill=\"none\" stroke=\"black\" points=\"349,-47.5 349,-83.5 570,-83.5 570,-47.5 349,-47.5\"/>\n",
       "<text text-anchor=\"middle\" x=\"361\" y=\"-61.8\" font-family=\"Times,serif\" font-size=\"14.00\">c</text>\n",
       "<polyline fill=\"none\" stroke=\"black\" points=\"373,-47.5 373,-83.5 \"/>\n",
       "<text text-anchor=\"middle\" x=\"422\" y=\"-61.8\" font-family=\"Times,serif\" font-size=\"14.00\">data: 3.000</text>\n",
       "<polyline fill=\"none\" stroke=\"black\" points=\"471,-47.5 471,-83.5 \"/>\n",
       "<text text-anchor=\"middle\" x=\"520.5\" y=\"-61.8\" font-family=\"Times,serif\" font-size=\"14.00\">grad: 0.000</text>\n",
       "</g>\n",
       "<!-- 129862324572368* -->\n",
       "<g id=\"node6\" class=\"node\">\n",
       "<title>129862324572368*</title>\n",
       "<ellipse fill=\"none\" stroke=\"black\" cx=\"633\" cy=\"-41.5\" rx=\"27\" ry=\"18\"/>\n",
       "<text text-anchor=\"middle\" x=\"633\" y=\"-37.8\" font-family=\"Times,serif\" font-size=\"14.00\">*</text>\n",
       "</g>\n",
       "<!-- 129862324514512&#45;&gt;129862324572368* -->\n",
       "<g id=\"edge5\" class=\"edge\">\n",
       "<title>129862324514512&#45;&gt;129862324572368*</title>\n",
       "<path fill=\"none\" stroke=\"black\" d=\"M570.08,-50.16C579.4,-48.86 588.3,-47.62 596.31,-46.49\"/>\n",
       "<polygon fill=\"black\" stroke=\"black\" points=\"596.86,-49.95 606.28,-45.1 595.89,-43.02 596.86,-49.95\"/>\n",
       "</g>\n",
       "<!-- 129862324514512+ -->\n",
       "<g id=\"node2\" class=\"node\">\n",
       "<title>129862324514512+</title>\n",
       "<ellipse fill=\"none\" stroke=\"black\" cx=\"286\" cy=\"-65.5\" rx=\"27\" ry=\"18\"/>\n",
       "<text text-anchor=\"middle\" x=\"286\" y=\"-61.8\" font-family=\"Times,serif\" font-size=\"14.00\">+</text>\n",
       "</g>\n",
       "<!-- 129862324514512+&#45;&gt;129862324514512 -->\n",
       "<g id=\"edge1\" class=\"edge\">\n",
       "<title>129862324514512+&#45;&gt;129862324514512</title>\n",
       "<path fill=\"none\" stroke=\"black\" d=\"M313.05,-65.5C320.48,-65.5 329.1,-65.5 338.36,-65.5\"/>\n",
       "<polygon fill=\"black\" stroke=\"black\" points=\"338.64,-69 348.64,-65.5 338.64,-62 338.64,-69\"/>\n",
       "</g>\n",
       "<!-- 129862324137936 -->\n",
       "<g id=\"node3\" class=\"node\">\n",
       "<title>129862324137936</title>\n",
       "<polygon fill=\"none\" stroke=\"black\" points=\"0.5,-55.5 0.5,-91.5 222.5,-91.5 222.5,-55.5 0.5,-55.5\"/>\n",
       "<text text-anchor=\"middle\" x=\"13\" y=\"-69.8\" font-family=\"Times,serif\" font-size=\"14.00\">a</text>\n",
       "<polyline fill=\"none\" stroke=\"black\" points=\"25.5,-55.5 25.5,-91.5 \"/>\n",
       "<text text-anchor=\"middle\" x=\"74.5\" y=\"-69.8\" font-family=\"Times,serif\" font-size=\"14.00\">data: 1.000</text>\n",
       "<polyline fill=\"none\" stroke=\"black\" points=\"123.5,-55.5 123.5,-91.5 \"/>\n",
       "<text text-anchor=\"middle\" x=\"173\" y=\"-69.8\" font-family=\"Times,serif\" font-size=\"14.00\">grad: 0.000</text>\n",
       "</g>\n",
       "<!-- 129862324137936&#45;&gt;129862324514512+ -->\n",
       "<g id=\"edge4\" class=\"edge\">\n",
       "<title>129862324137936&#45;&gt;129862324514512+</title>\n",
       "<path fill=\"none\" stroke=\"black\" d=\"M222.72,-68.39C231.89,-67.96 240.67,-67.56 248.59,-67.19\"/>\n",
       "<polygon fill=\"black\" stroke=\"black\" points=\"249,-70.67 258.82,-66.71 248.67,-63.68 249,-70.67\"/>\n",
       "</g>\n",
       "<!-- 129862324631504 -->\n",
       "<g id=\"node4\" class=\"node\">\n",
       "<title>129862324631504</title>\n",
       "<polygon fill=\"none\" stroke=\"black\" points=\"0,-0.5 0,-36.5 223,-36.5 223,-0.5 0,-0.5\"/>\n",
       "<text text-anchor=\"middle\" x=\"13\" y=\"-14.8\" font-family=\"Times,serif\" font-size=\"14.00\">b</text>\n",
       "<polyline fill=\"none\" stroke=\"black\" points=\"26,-0.5 26,-36.5 \"/>\n",
       "<text text-anchor=\"middle\" x=\"75\" y=\"-14.8\" font-family=\"Times,serif\" font-size=\"14.00\">data: 2.000</text>\n",
       "<polyline fill=\"none\" stroke=\"black\" points=\"124,-0.5 124,-36.5 \"/>\n",
       "<text text-anchor=\"middle\" x=\"173.5\" y=\"-14.8\" font-family=\"Times,serif\" font-size=\"14.00\">grad: 0.000</text>\n",
       "</g>\n",
       "<!-- 129862324631504&#45;&gt;129862324514512+ -->\n",
       "<g id=\"edge3\" class=\"edge\">\n",
       "<title>129862324631504&#45;&gt;129862324514512+</title>\n",
       "<path fill=\"none\" stroke=\"black\" d=\"M189.37,-36.52C200.68,-39.4 212.17,-42.43 223,-45.5 232.43,-48.17 242.58,-51.32 251.88,-54.33\"/>\n",
       "<polygon fill=\"black\" stroke=\"black\" points=\"250.98,-57.71 261.57,-57.5 253.15,-51.06 250.98,-57.71\"/>\n",
       "</g>\n",
       "<!-- 129862324631504&#45;&gt;129862324572368* -->\n",
       "<g id=\"edge6\" class=\"edge\">\n",
       "<title>129862324631504&#45;&gt;129862324572368*</title>\n",
       "<path fill=\"none\" stroke=\"black\" d=\"M223,-22.38C315.69,-25.8 451.52,-31.22 570,-37.5 578.42,-37.95 587.49,-38.49 596.01,-39.04\"/>\n",
       "<polygon fill=\"black\" stroke=\"black\" points=\"595.86,-42.54 606.07,-39.69 596.31,-35.55 595.86,-42.54\"/>\n",
       "</g>\n",
       "<!-- 129862324572368 -->\n",
       "<g id=\"node5\" class=\"node\">\n",
       "<title>129862324572368</title>\n",
       "<polygon fill=\"none\" stroke=\"black\" points=\"696,-23.5 696,-59.5 919,-59.5 919,-23.5 696,-23.5\"/>\n",
       "<text text-anchor=\"middle\" x=\"709\" y=\"-37.8\" font-family=\"Times,serif\" font-size=\"14.00\">d</text>\n",
       "<polyline fill=\"none\" stroke=\"black\" points=\"722,-23.5 722,-59.5 \"/>\n",
       "<text text-anchor=\"middle\" x=\"771\" y=\"-37.8\" font-family=\"Times,serif\" font-size=\"14.00\">data: 6.000</text>\n",
       "<polyline fill=\"none\" stroke=\"black\" points=\"820,-23.5 820,-59.5 \"/>\n",
       "<text text-anchor=\"middle\" x=\"869.5\" y=\"-37.8\" font-family=\"Times,serif\" font-size=\"14.00\">grad: 0.000</text>\n",
       "</g>\n",
       "<!-- 129862324572368*&#45;&gt;129862324572368 -->\n",
       "<g id=\"edge2\" class=\"edge\">\n",
       "<title>129862324572368*&#45;&gt;129862324572368</title>\n",
       "<path fill=\"none\" stroke=\"black\" d=\"M660.2,-41.5C667.75,-41.5 676.53,-41.5 685.96,-41.5\"/>\n",
       "<polygon fill=\"black\" stroke=\"black\" points=\"685.99,-45 695.99,-41.5 685.99,-38 685.99,-45\"/>\n",
       "</g>\n",
       "</g>\n",
       "</svg>\n"
      ],
      "text/plain": [
       "<graphviz.graphs.Digraph at 0x761bedc29d90>"
      ]
     },
     "execution_count": 97,
     "metadata": {},
     "output_type": "execute_result"
    }
   ],
   "source": [
    "draw_graph(d)"
   ]
  },
  {
   "cell_type": "code",
   "execution_count": 98,
   "id": "d665b27c-083b-4ec4-bc0f-273b9172b163",
   "metadata": {},
   "outputs": [],
   "source": [
    "d.backward()"
   ]
  },
  {
   "cell_type": "code",
   "execution_count": 99,
   "id": "e126724e-d1f9-454c-bba0-3b8c3606c5ed",
   "metadata": {},
   "outputs": [
    {
     "data": {
      "image/svg+xml": [
       "<?xml version=\"1.0\" encoding=\"UTF-8\" standalone=\"no\"?>\n",
       "<!DOCTYPE svg PUBLIC \"-//W3C//DTD SVG 1.1//EN\"\n",
       " \"http://www.w3.org/Graphics/SVG/1.1/DTD/svg11.dtd\">\n",
       "<!-- Generated by graphviz version 2.43.0 (0)\n",
       " -->\n",
       "<!-- Title: compute&#45;graph Pages: 1 -->\n",
       "<svg width=\"927pt\" height=\"100pt\"\n",
       " viewBox=\"0.00 0.00 927.00 100.00\" xmlns=\"http://www.w3.org/2000/svg\" xmlns:xlink=\"http://www.w3.org/1999/xlink\">\n",
       "<g id=\"graph0\" class=\"graph\" transform=\"scale(1 1) rotate(0) translate(4 96)\">\n",
       "<title>compute&#45;graph</title>\n",
       "<polygon fill=\"white\" stroke=\"transparent\" points=\"-4,4 -4,-96 923,-96 923,4 -4,4\"/>\n",
       "<!-- 129862324514512 -->\n",
       "<g id=\"node1\" class=\"node\">\n",
       "<title>129862324514512</title>\n",
       "<polygon fill=\"none\" stroke=\"black\" points=\"349,-47.5 349,-83.5 570,-83.5 570,-47.5 349,-47.5\"/>\n",
       "<text text-anchor=\"middle\" x=\"361\" y=\"-61.8\" font-family=\"Times,serif\" font-size=\"14.00\">c</text>\n",
       "<polyline fill=\"none\" stroke=\"black\" points=\"373,-47.5 373,-83.5 \"/>\n",
       "<text text-anchor=\"middle\" x=\"422\" y=\"-61.8\" font-family=\"Times,serif\" font-size=\"14.00\">data: 3.000</text>\n",
       "<polyline fill=\"none\" stroke=\"black\" points=\"471,-47.5 471,-83.5 \"/>\n",
       "<text text-anchor=\"middle\" x=\"520.5\" y=\"-61.8\" font-family=\"Times,serif\" font-size=\"14.00\">grad: 2.000</text>\n",
       "</g>\n",
       "<!-- 129862324572368* -->\n",
       "<g id=\"node6\" class=\"node\">\n",
       "<title>129862324572368*</title>\n",
       "<ellipse fill=\"none\" stroke=\"black\" cx=\"633\" cy=\"-41.5\" rx=\"27\" ry=\"18\"/>\n",
       "<text text-anchor=\"middle\" x=\"633\" y=\"-37.8\" font-family=\"Times,serif\" font-size=\"14.00\">*</text>\n",
       "</g>\n",
       "<!-- 129862324514512&#45;&gt;129862324572368* -->\n",
       "<g id=\"edge5\" class=\"edge\">\n",
       "<title>129862324514512&#45;&gt;129862324572368*</title>\n",
       "<path fill=\"none\" stroke=\"black\" d=\"M570.08,-50.16C579.4,-48.86 588.3,-47.62 596.31,-46.49\"/>\n",
       "<polygon fill=\"black\" stroke=\"black\" points=\"596.86,-49.95 606.28,-45.1 595.89,-43.02 596.86,-49.95\"/>\n",
       "</g>\n",
       "<!-- 129862324514512+ -->\n",
       "<g id=\"node2\" class=\"node\">\n",
       "<title>129862324514512+</title>\n",
       "<ellipse fill=\"none\" stroke=\"black\" cx=\"286\" cy=\"-65.5\" rx=\"27\" ry=\"18\"/>\n",
       "<text text-anchor=\"middle\" x=\"286\" y=\"-61.8\" font-family=\"Times,serif\" font-size=\"14.00\">+</text>\n",
       "</g>\n",
       "<!-- 129862324514512+&#45;&gt;129862324514512 -->\n",
       "<g id=\"edge1\" class=\"edge\">\n",
       "<title>129862324514512+&#45;&gt;129862324514512</title>\n",
       "<path fill=\"none\" stroke=\"black\" d=\"M313.05,-65.5C320.48,-65.5 329.1,-65.5 338.36,-65.5\"/>\n",
       "<polygon fill=\"black\" stroke=\"black\" points=\"338.64,-69 348.64,-65.5 338.64,-62 338.64,-69\"/>\n",
       "</g>\n",
       "<!-- 129862324137936 -->\n",
       "<g id=\"node3\" class=\"node\">\n",
       "<title>129862324137936</title>\n",
       "<polygon fill=\"none\" stroke=\"black\" points=\"0.5,-55.5 0.5,-91.5 222.5,-91.5 222.5,-55.5 0.5,-55.5\"/>\n",
       "<text text-anchor=\"middle\" x=\"13\" y=\"-69.8\" font-family=\"Times,serif\" font-size=\"14.00\">a</text>\n",
       "<polyline fill=\"none\" stroke=\"black\" points=\"25.5,-55.5 25.5,-91.5 \"/>\n",
       "<text text-anchor=\"middle\" x=\"74.5\" y=\"-69.8\" font-family=\"Times,serif\" font-size=\"14.00\">data: 1.000</text>\n",
       "<polyline fill=\"none\" stroke=\"black\" points=\"123.5,-55.5 123.5,-91.5 \"/>\n",
       "<text text-anchor=\"middle\" x=\"173\" y=\"-69.8\" font-family=\"Times,serif\" font-size=\"14.00\">grad: 2.000</text>\n",
       "</g>\n",
       "<!-- 129862324137936&#45;&gt;129862324514512+ -->\n",
       "<g id=\"edge4\" class=\"edge\">\n",
       "<title>129862324137936&#45;&gt;129862324514512+</title>\n",
       "<path fill=\"none\" stroke=\"black\" d=\"M222.72,-68.39C231.89,-67.96 240.67,-67.56 248.59,-67.19\"/>\n",
       "<polygon fill=\"black\" stroke=\"black\" points=\"249,-70.67 258.82,-66.71 248.67,-63.68 249,-70.67\"/>\n",
       "</g>\n",
       "<!-- 129862324631504 -->\n",
       "<g id=\"node4\" class=\"node\">\n",
       "<title>129862324631504</title>\n",
       "<polygon fill=\"none\" stroke=\"black\" points=\"0,-0.5 0,-36.5 223,-36.5 223,-0.5 0,-0.5\"/>\n",
       "<text text-anchor=\"middle\" x=\"13\" y=\"-14.8\" font-family=\"Times,serif\" font-size=\"14.00\">b</text>\n",
       "<polyline fill=\"none\" stroke=\"black\" points=\"26,-0.5 26,-36.5 \"/>\n",
       "<text text-anchor=\"middle\" x=\"75\" y=\"-14.8\" font-family=\"Times,serif\" font-size=\"14.00\">data: 2.000</text>\n",
       "<polyline fill=\"none\" stroke=\"black\" points=\"124,-0.5 124,-36.5 \"/>\n",
       "<text text-anchor=\"middle\" x=\"173.5\" y=\"-14.8\" font-family=\"Times,serif\" font-size=\"14.00\">grad: 5.000</text>\n",
       "</g>\n",
       "<!-- 129862324631504&#45;&gt;129862324514512+ -->\n",
       "<g id=\"edge3\" class=\"edge\">\n",
       "<title>129862324631504&#45;&gt;129862324514512+</title>\n",
       "<path fill=\"none\" stroke=\"black\" d=\"M189.37,-36.52C200.68,-39.4 212.17,-42.43 223,-45.5 232.43,-48.17 242.58,-51.32 251.88,-54.33\"/>\n",
       "<polygon fill=\"black\" stroke=\"black\" points=\"250.98,-57.71 261.57,-57.5 253.15,-51.06 250.98,-57.71\"/>\n",
       "</g>\n",
       "<!-- 129862324631504&#45;&gt;129862324572368* -->\n",
       "<g id=\"edge6\" class=\"edge\">\n",
       "<title>129862324631504&#45;&gt;129862324572368*</title>\n",
       "<path fill=\"none\" stroke=\"black\" d=\"M223,-22.38C315.69,-25.8 451.52,-31.22 570,-37.5 578.42,-37.95 587.49,-38.49 596.01,-39.04\"/>\n",
       "<polygon fill=\"black\" stroke=\"black\" points=\"595.86,-42.54 606.07,-39.69 596.31,-35.55 595.86,-42.54\"/>\n",
       "</g>\n",
       "<!-- 129862324572368 -->\n",
       "<g id=\"node5\" class=\"node\">\n",
       "<title>129862324572368</title>\n",
       "<polygon fill=\"none\" stroke=\"black\" points=\"696,-23.5 696,-59.5 919,-59.5 919,-23.5 696,-23.5\"/>\n",
       "<text text-anchor=\"middle\" x=\"709\" y=\"-37.8\" font-family=\"Times,serif\" font-size=\"14.00\">d</text>\n",
       "<polyline fill=\"none\" stroke=\"black\" points=\"722,-23.5 722,-59.5 \"/>\n",
       "<text text-anchor=\"middle\" x=\"771\" y=\"-37.8\" font-family=\"Times,serif\" font-size=\"14.00\">data: 6.000</text>\n",
       "<polyline fill=\"none\" stroke=\"black\" points=\"820,-23.5 820,-59.5 \"/>\n",
       "<text text-anchor=\"middle\" x=\"869.5\" y=\"-37.8\" font-family=\"Times,serif\" font-size=\"14.00\">grad: 1.000</text>\n",
       "</g>\n",
       "<!-- 129862324572368*&#45;&gt;129862324572368 -->\n",
       "<g id=\"edge2\" class=\"edge\">\n",
       "<title>129862324572368*&#45;&gt;129862324572368</title>\n",
       "<path fill=\"none\" stroke=\"black\" d=\"M660.2,-41.5C667.75,-41.5 676.53,-41.5 685.96,-41.5\"/>\n",
       "<polygon fill=\"black\" stroke=\"black\" points=\"685.99,-45 695.99,-41.5 685.99,-38 685.99,-45\"/>\n",
       "</g>\n",
       "</g>\n",
       "</svg>\n"
      ],
      "text/plain": [
       "<graphviz.graphs.Digraph at 0x761bedb5b690>"
      ]
     },
     "execution_count": 99,
     "metadata": {},
     "output_type": "execute_result"
    }
   ],
   "source": [
    "draw_graph(d)"
   ]
  },
  {
   "cell_type": "markdown",
   "id": "d323b982-81a2-4626-9940-2ce0e3349613",
   "metadata": {},
   "source": [
    "# Softmax and Multiclass Cross Entropy Loss"
   ]
  },
  {
   "cell_type": "code",
   "execution_count": 101,
   "id": "fb7366ef-2b95-4c35-a621-220ef77dd5f1",
   "metadata": {},
   "outputs": [],
   "source": [
    "import numpy as np"
   ]
  },
  {
   "cell_type": "code",
   "execution_count": 107,
   "id": "d5511182-e47c-490c-b394-9a6450caf2ea",
   "metadata": {},
   "outputs": [],
   "source": [
    "def softmax(x, axis=-1):\n",
    "    # x: B, C\n",
    "    # return B, C\n",
    "    exp = np.exp(x)   # B, C\n",
    "    exp_sum = exp.sum(axis=axis, keepdims=True)  # B, 1\n",
    "    return exp / exp_sum"
   ]
  },
  {
   "cell_type": "code",
   "execution_count": 196,
   "id": "149906c8-21c6-41d2-a7ec-0800bda742b9",
   "metadata": {},
   "outputs": [],
   "source": [
    "N = 10\n",
    "C = 3\n",
    "\n",
    "logits = np.random.randn(N, C)  # N, C\n",
    "y_pred = softmax(logits)\n",
    "y = np.random.randint(0, C, size=(10,))\n",
    "loss_np = -((np.arange(C) == y[:, None]) * np.log(y_pred)).sum() / N"
   ]
  },
  {
   "cell_type": "code",
   "execution_count": 197,
   "id": "5c28aff7-8a52-4a6d-8bef-2036c41993ae",
   "metadata": {},
   "outputs": [
    {
     "data": {
      "text/plain": [
       "array([[ True, False, False],\n",
       "       [ True, False, False],\n",
       "       [ True, False, False],\n",
       "       [False,  True, False],\n",
       "       [ True, False, False],\n",
       "       [False,  True, False],\n",
       "       [ True, False, False],\n",
       "       [False, False,  True],\n",
       "       [False, False,  True],\n",
       "       [False,  True, False]])"
      ]
     },
     "execution_count": 197,
     "metadata": {},
     "output_type": "execute_result"
    }
   ],
   "source": [
    "np.arange(C) == y[:, None]   # N, C"
   ]
  },
  {
   "cell_type": "code",
   "execution_count": 198,
   "id": "7e113feb-b919-4edc-9876-a1bca0e51e28",
   "metadata": {},
   "outputs": [
    {
     "data": {
      "text/plain": [
       "array([[-1.7086181 , -1.19065989, -0.66385343],\n",
       "       [-2.03708245, -0.37245501, -1.71174353],\n",
       "       [-0.72297724, -1.78031706, -1.0609984 ],\n",
       "       [-1.74465005, -1.5804808 , -0.47897528],\n",
       "       [-0.5957516 , -1.10536547, -2.13908985],\n",
       "       [-0.16843753, -2.68414724, -2.44487987],\n",
       "       [-2.48264304, -0.90423106, -0.67016384],\n",
       "       [-1.15001251, -0.67652191, -1.74305462],\n",
       "       [-2.7335186 , -0.45003928, -1.21265477],\n",
       "       [-0.42195244, -1.80034608, -1.72040811]])"
      ]
     },
     "execution_count": 198,
     "metadata": {},
     "output_type": "execute_result"
    }
   ],
   "source": [
    "np.log(y_pred)"
   ]
  },
  {
   "cell_type": "code",
   "execution_count": 199,
   "id": "4402c9dc-12b7-4b89-858f-95c70f754b9c",
   "metadata": {},
   "outputs": [],
   "source": [
    "import torch\n",
    "import torch.nn as nn"
   ]
  },
  {
   "cell_type": "code",
   "execution_count": 200,
   "id": "0af79c5d-02f7-4f9f-bcb2-30b5f2cf936d",
   "metadata": {},
   "outputs": [],
   "source": [
    "sftmax = nn.Softmax(dim=-1)"
   ]
  },
  {
   "cell_type": "code",
   "execution_count": 201,
   "id": "0baa582d-4ee6-4d48-9ca7-3129400ee783",
   "metadata": {},
   "outputs": [],
   "source": [
    "cross_entropy = nn.CrossEntropyLoss(reduction='mean')"
   ]
  },
  {
   "cell_type": "code",
   "execution_count": 202,
   "id": "ba310fe3-9038-412a-81f2-f7b934d2fa9c",
   "metadata": {},
   "outputs": [],
   "source": [
    "loss = cross_entropy(torch.as_tensor(logits, dtype=torch.float32), torch.as_tensor(y, dtype=torch.long))"
   ]
  },
  {
   "cell_type": "code",
   "execution_count": 209,
   "id": "98fdb8c8-b84d-4b1e-ba9a-a5ee983fe3e5",
   "metadata": {},
   "outputs": [],
   "source": [
    "torch.testing.assert_close(loss, torch.as_tensor(loss_np, dtype=torch.float32))"
   ]
  },
  {
   "cell_type": "code",
   "execution_count": null,
   "id": "7cf5e6fe-6cfa-48f0-8483-8caf9ed5269d",
   "metadata": {},
   "outputs": [],
   "source": []
  }
 ],
 "metadata": {
  "kernelspec": {
   "display_name": "Python 3 (ipykernel)",
   "language": "python",
   "name": "python3"
  },
  "language_info": {
   "codemirror_mode": {
    "name": "ipython",
    "version": 3
   },
   "file_extension": ".py",
   "mimetype": "text/x-python",
   "name": "python",
   "nbconvert_exporter": "python",
   "pygments_lexer": "ipython3",
   "version": "3.11.9"
  }
 },
 "nbformat": 4,
 "nbformat_minor": 5
}
